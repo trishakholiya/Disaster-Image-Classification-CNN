{
 "cells": [
  {
   "cell_type": "markdown",
   "id": "4b73cd0a",
   "metadata": {},
   "source": [
    "## CNN"
   ]
  },
  {
   "cell_type": "code",
   "execution_count": null,
   "id": "d3c57ec4",
   "metadata": {},
   "outputs": [
    {
     "name": "stderr",
     "output_type": "stream",
     "text": [
      "2025-08-20 14:40:09.951909: I tensorflow/core/util/port.cc:153] oneDNN custom operations are on. You may see slightly different numerical results due to floating-point round-off errors from different computation orders. To turn them off, set the environment variable `TF_ENABLE_ONEDNN_OPTS=0`.\n",
      "2025-08-20 14:40:10.038937: E external/local_xla/xla/stream_executor/cuda/cuda_fft.cc:477] Unable to register cuFFT factory: Attempting to register factory for plugin cuFFT when one has already been registered\n",
      "WARNING: All log messages before absl::InitializeLog() is called are written to STDERR\n",
      "E0000 00:00:1755726010.061388   25203 cuda_dnn.cc:8310] Unable to register cuDNN factory: Attempting to register factory for plugin cuDNN when one has already been registered\n",
      "E0000 00:00:1755726010.068033   25203 cuda_blas.cc:1418] Unable to register cuBLAS factory: Attempting to register factory for plugin cuBLAS when one has already been registered\n",
      "2025-08-20 14:40:10.180832: I tensorflow/core/platform/cpu_feature_guard.cc:210] This TensorFlow binary is optimized to use available CPU instructions in performance-critical operations.\n",
      "To enable the following instructions: SSE4.1 SSE4.2 AVX AVX2 AVX_VNNI FMA, in other operations, rebuild TensorFlow with the appropriate compiler flags.\n"
     ]
    }
   ],
   "source": [
    "from PIL import Image\n",
    "from sklearn.preprocessing import LabelEncoder\n",
    "from tensorflow.keras.utils import to_categorical\n",
    "import tensorflow as tf\n",
    "import numpy as np"
   ]
  },
  {
   "cell_type": "markdown",
   "id": "184d4251",
   "metadata": {},
   "source": [
    "### Preprocessing the Images"
   ]
  },
  {
   "cell_type": "code",
   "execution_count": null,
   "id": "e95f8665",
   "metadata": {},
   "outputs": [
    {
     "name": "stderr",
     "output_type": "stream",
     "text": [
      "I0000 00:00:1755726014.445332   25203 gpu_device.cc:2022] Created device /job:localhost/replica:0/task:0/device:GPU:0 with 5592 MB memory:  -> device: 0, name: NVIDIA GeForce RTX 3060 Ti, pci bus id: 0000:01:00.0, compute capability: 8.6\n"
     ]
    }
   ],
   "source": [
    "# Convert lists to NumPy arrays\n",
    "img_scale = (64, 64) # size to scale the images to. could test larger but kernel might crash again.\n",
    "\n",
    "X_images = []\n",
    "y_disaster = []\n",
    "y_damage = []\n",
    "\n",
    "disaster_list = list(data.keys())\n",
    "disaster_to_idx = {d: i for i, d in enumerate(disaster_list)} \n",
    "\n",
    "for disaster, contents in data.items():\n",
    "    imgs = contents[\"images\"]   # list of numpy arrays (varied shapes)\n",
    "    labels = contents[\"labels\"] # damage levels\n",
    "    d_idx = disaster_to_idx[disaster]\n",
    "    \n",
    "    for img, damage in zip(imgs, labels):\n",
    "        # Resize images\n",
    "        img_resized = tf.image.resize(img, img_scale).numpy()\n",
    "        \n",
    "        # Normalize\n",
    "        img_resized = img_resized / 255.0\n",
    "        \n",
    "        X_images.append(img_resized)\n",
    "        y_damage.append(damage)\n",
    "        y_disaster.append(d_idx)\n",
    "\n",
    "X_images = np.array(X_images, dtype=np.float32)\n",
    "y_disaster = np.array(y_disaster)\n",
    "y_damage   = np.array(y_damage)"
   ]
  },
  {
   "cell_type": "code",
   "execution_count": null,
   "id": "48d0915e",
   "metadata": {},
   "outputs": [],
   "source": [
    "num_disasters = len(disaster_list)\n",
    "num_damage_levels = len(set(y_damage))\n",
    "\n",
    "y_disaster = to_categorical(y_disaster, num_classes=num_disasters)\n",
    "y_damage   = to_categorical(y_damage,   num_classes=num_damage_levels)"
   ]
  },
  {
   "cell_type": "code",
   "execution_count": null,
   "id": "91569f91",
   "metadata": {},
   "outputs": [],
   "source": [
    "from sklearn.model_selection import train_test_split\n",
    "\n",
    "# Make training and testing sets from preprocessed data\n",
    "# X is image data, two y's because multi output (disaster type and damage level)\n",
    "X_train, X_test, y_disaster_train, y_disaster_test, y_damage_train, y_damage_test = train_test_split(\n",
    "    X_images, y_disaster, y_damage, \n",
    "    test_size=0.2, random_state=42, stratify=y_disaster\n",
    ")"
   ]
  },
  {
   "cell_type": "markdown",
   "id": "3f82d301",
   "metadata": {},
   "source": [
    "### Model"
   ]
  },
  {
   "cell_type": "code",
   "execution_count": null,
   "id": "106c681e",
   "metadata": {},
   "outputs": [
    {
     "data": {
      "text/html": [
       "<pre style=\"white-space:pre;overflow-x:auto;line-height:normal;font-family:Menlo,'DejaVu Sans Mono',consolas,'Courier New',monospace\"><span style=\"font-weight: bold\">Model: \"functional\"</span>\n",
       "</pre>\n"
      ],
      "text/plain": [
       "\u001b[1mModel: \"functional\"\u001b[0m\n"
      ]
     },
     "metadata": {},
     "output_type": "display_data"
    },
    {
     "data": {
      "text/html": [
       "<pre style=\"white-space:pre;overflow-x:auto;line-height:normal;font-family:Menlo,'DejaVu Sans Mono',consolas,'Courier New',monospace\">┏━━━━━━━━━━━━━━━━━━━━━┳━━━━━━━━━━━━━━━━━━━┳━━━━━━━━━━━━┳━━━━━━━━━━━━━━━━━━━┓\n",
       "┃<span style=\"font-weight: bold\"> Layer (type)        </span>┃<span style=\"font-weight: bold\"> Output Shape      </span>┃<span style=\"font-weight: bold\">    Param # </span>┃<span style=\"font-weight: bold\"> Connected to      </span>┃\n",
       "┡━━━━━━━━━━━━━━━━━━━━━╇━━━━━━━━━━━━━━━━━━━╇━━━━━━━━━━━━╇━━━━━━━━━━━━━━━━━━━┩\n",
       "│ input_layer         │ (<span style=\"color: #00d7ff; text-decoration-color: #00d7ff\">None</span>, <span style=\"color: #00af00; text-decoration-color: #00af00\">64</span>, <span style=\"color: #00af00; text-decoration-color: #00af00\">64</span>, <span style=\"color: #00af00; text-decoration-color: #00af00\">3</span>) │          <span style=\"color: #00af00; text-decoration-color: #00af00\">0</span> │ -                 │\n",
       "│ (<span style=\"color: #0087ff; text-decoration-color: #0087ff\">InputLayer</span>)        │                   │            │                   │\n",
       "├─────────────────────┼───────────────────┼────────────┼───────────────────┤\n",
       "│ conv2d (<span style=\"color: #0087ff; text-decoration-color: #0087ff\">Conv2D</span>)     │ (<span style=\"color: #00d7ff; text-decoration-color: #00d7ff\">None</span>, <span style=\"color: #00af00; text-decoration-color: #00af00\">62</span>, <span style=\"color: #00af00; text-decoration-color: #00af00\">62</span>,    │        <span style=\"color: #00af00; text-decoration-color: #00af00\">896</span> │ input_layer[<span style=\"color: #00af00; text-decoration-color: #00af00\">0</span>][<span style=\"color: #00af00; text-decoration-color: #00af00\">0</span>] │\n",
       "│                     │ <span style=\"color: #00af00; text-decoration-color: #00af00\">32</span>)               │            │                   │\n",
       "├─────────────────────┼───────────────────┼────────────┼───────────────────┤\n",
       "│ max_pooling2d       │ (<span style=\"color: #00d7ff; text-decoration-color: #00d7ff\">None</span>, <span style=\"color: #00af00; text-decoration-color: #00af00\">31</span>, <span style=\"color: #00af00; text-decoration-color: #00af00\">31</span>,    │          <span style=\"color: #00af00; text-decoration-color: #00af00\">0</span> │ conv2d[<span style=\"color: #00af00; text-decoration-color: #00af00\">0</span>][<span style=\"color: #00af00; text-decoration-color: #00af00\">0</span>]      │\n",
       "│ (<span style=\"color: #0087ff; text-decoration-color: #0087ff\">MaxPooling2D</span>)      │ <span style=\"color: #00af00; text-decoration-color: #00af00\">32</span>)               │            │                   │\n",
       "├─────────────────────┼───────────────────┼────────────┼───────────────────┤\n",
       "│ conv2d_1 (<span style=\"color: #0087ff; text-decoration-color: #0087ff\">Conv2D</span>)   │ (<span style=\"color: #00d7ff; text-decoration-color: #00d7ff\">None</span>, <span style=\"color: #00af00; text-decoration-color: #00af00\">29</span>, <span style=\"color: #00af00; text-decoration-color: #00af00\">29</span>,    │     <span style=\"color: #00af00; text-decoration-color: #00af00\">18,496</span> │ max_pooling2d[<span style=\"color: #00af00; text-decoration-color: #00af00\">0</span>]… │\n",
       "│                     │ <span style=\"color: #00af00; text-decoration-color: #00af00\">64</span>)               │            │                   │\n",
       "├─────────────────────┼───────────────────┼────────────┼───────────────────┤\n",
       "│ max_pooling2d_1     │ (<span style=\"color: #00d7ff; text-decoration-color: #00d7ff\">None</span>, <span style=\"color: #00af00; text-decoration-color: #00af00\">14</span>, <span style=\"color: #00af00; text-decoration-color: #00af00\">14</span>,    │          <span style=\"color: #00af00; text-decoration-color: #00af00\">0</span> │ conv2d_1[<span style=\"color: #00af00; text-decoration-color: #00af00\">0</span>][<span style=\"color: #00af00; text-decoration-color: #00af00\">0</span>]    │\n",
       "│ (<span style=\"color: #0087ff; text-decoration-color: #0087ff\">MaxPooling2D</span>)      │ <span style=\"color: #00af00; text-decoration-color: #00af00\">64</span>)               │            │                   │\n",
       "├─────────────────────┼───────────────────┼────────────┼───────────────────┤\n",
       "│ conv2d_2 (<span style=\"color: #0087ff; text-decoration-color: #0087ff\">Conv2D</span>)   │ (<span style=\"color: #00d7ff; text-decoration-color: #00d7ff\">None</span>, <span style=\"color: #00af00; text-decoration-color: #00af00\">12</span>, <span style=\"color: #00af00; text-decoration-color: #00af00\">12</span>,    │     <span style=\"color: #00af00; text-decoration-color: #00af00\">73,856</span> │ max_pooling2d_1[<span style=\"color: #00af00; text-decoration-color: #00af00\">…</span> │\n",
       "│                     │ <span style=\"color: #00af00; text-decoration-color: #00af00\">128</span>)              │            │                   │\n",
       "├─────────────────────┼───────────────────┼────────────┼───────────────────┤\n",
       "│ global_max_pooling… │ (<span style=\"color: #00d7ff; text-decoration-color: #00d7ff\">None</span>, <span style=\"color: #00af00; text-decoration-color: #00af00\">128</span>)       │          <span style=\"color: #00af00; text-decoration-color: #00af00\">0</span> │ conv2d_2[<span style=\"color: #00af00; text-decoration-color: #00af00\">0</span>][<span style=\"color: #00af00; text-decoration-color: #00af00\">0</span>]    │\n",
       "│ (<span style=\"color: #0087ff; text-decoration-color: #0087ff\">GlobalMaxPooling2…</span> │                   │            │                   │\n",
       "├─────────────────────┼───────────────────┼────────────┼───────────────────┤\n",
       "│ dense (<span style=\"color: #0087ff; text-decoration-color: #0087ff\">Dense</span>)       │ (<span style=\"color: #00d7ff; text-decoration-color: #00d7ff\">None</span>, <span style=\"color: #00af00; text-decoration-color: #00af00\">32</span>)        │      <span style=\"color: #00af00; text-decoration-color: #00af00\">4,128</span> │ global_max_pooli… │\n",
       "├─────────────────────┼───────────────────┼────────────┼───────────────────┤\n",
       "│ dropout (<span style=\"color: #0087ff; text-decoration-color: #0087ff\">Dropout</span>)   │ (<span style=\"color: #00d7ff; text-decoration-color: #00d7ff\">None</span>, <span style=\"color: #00af00; text-decoration-color: #00af00\">32</span>)        │          <span style=\"color: #00af00; text-decoration-color: #00af00\">0</span> │ dense[<span style=\"color: #00af00; text-decoration-color: #00af00\">0</span>][<span style=\"color: #00af00; text-decoration-color: #00af00\">0</span>]       │\n",
       "├─────────────────────┼───────────────────┼────────────┼───────────────────┤\n",
       "│ disaster_type       │ (<span style=\"color: #00d7ff; text-decoration-color: #00d7ff\">None</span>, <span style=\"color: #00af00; text-decoration-color: #00af00\">3</span>)         │         <span style=\"color: #00af00; text-decoration-color: #00af00\">99</span> │ dropout[<span style=\"color: #00af00; text-decoration-color: #00af00\">0</span>][<span style=\"color: #00af00; text-decoration-color: #00af00\">0</span>]     │\n",
       "│ (<span style=\"color: #0087ff; text-decoration-color: #0087ff\">Dense</span>)             │                   │            │                   │\n",
       "├─────────────────────┼───────────────────┼────────────┼───────────────────┤\n",
       "│ damage_level        │ (<span style=\"color: #00d7ff; text-decoration-color: #00d7ff\">None</span>, <span style=\"color: #00af00; text-decoration-color: #00af00\">4</span>)         │        <span style=\"color: #00af00; text-decoration-color: #00af00\">132</span> │ dropout[<span style=\"color: #00af00; text-decoration-color: #00af00\">0</span>][<span style=\"color: #00af00; text-decoration-color: #00af00\">0</span>]     │\n",
       "│ (<span style=\"color: #0087ff; text-decoration-color: #0087ff\">Dense</span>)             │                   │            │                   │\n",
       "└─────────────────────┴───────────────────┴────────────┴───────────────────┘\n",
       "</pre>\n"
      ],
      "text/plain": [
       "┏━━━━━━━━━━━━━━━━━━━━━┳━━━━━━━━━━━━━━━━━━━┳━━━━━━━━━━━━┳━━━━━━━━━━━━━━━━━━━┓\n",
       "┃\u001b[1m \u001b[0m\u001b[1mLayer (type)       \u001b[0m\u001b[1m \u001b[0m┃\u001b[1m \u001b[0m\u001b[1mOutput Shape     \u001b[0m\u001b[1m \u001b[0m┃\u001b[1m \u001b[0m\u001b[1m   Param #\u001b[0m\u001b[1m \u001b[0m┃\u001b[1m \u001b[0m\u001b[1mConnected to     \u001b[0m\u001b[1m \u001b[0m┃\n",
       "┡━━━━━━━━━━━━━━━━━━━━━╇━━━━━━━━━━━━━━━━━━━╇━━━━━━━━━━━━╇━━━━━━━━━━━━━━━━━━━┩\n",
       "│ input_layer         │ (\u001b[38;5;45mNone\u001b[0m, \u001b[38;5;34m64\u001b[0m, \u001b[38;5;34m64\u001b[0m, \u001b[38;5;34m3\u001b[0m) │          \u001b[38;5;34m0\u001b[0m │ -                 │\n",
       "│ (\u001b[38;5;33mInputLayer\u001b[0m)        │                   │            │                   │\n",
       "├─────────────────────┼───────────────────┼────────────┼───────────────────┤\n",
       "│ conv2d (\u001b[38;5;33mConv2D\u001b[0m)     │ (\u001b[38;5;45mNone\u001b[0m, \u001b[38;5;34m62\u001b[0m, \u001b[38;5;34m62\u001b[0m,    │        \u001b[38;5;34m896\u001b[0m │ input_layer[\u001b[38;5;34m0\u001b[0m][\u001b[38;5;34m0\u001b[0m] │\n",
       "│                     │ \u001b[38;5;34m32\u001b[0m)               │            │                   │\n",
       "├─────────────────────┼───────────────────┼────────────┼───────────────────┤\n",
       "│ max_pooling2d       │ (\u001b[38;5;45mNone\u001b[0m, \u001b[38;5;34m31\u001b[0m, \u001b[38;5;34m31\u001b[0m,    │          \u001b[38;5;34m0\u001b[0m │ conv2d[\u001b[38;5;34m0\u001b[0m][\u001b[38;5;34m0\u001b[0m]      │\n",
       "│ (\u001b[38;5;33mMaxPooling2D\u001b[0m)      │ \u001b[38;5;34m32\u001b[0m)               │            │                   │\n",
       "├─────────────────────┼───────────────────┼────────────┼───────────────────┤\n",
       "│ conv2d_1 (\u001b[38;5;33mConv2D\u001b[0m)   │ (\u001b[38;5;45mNone\u001b[0m, \u001b[38;5;34m29\u001b[0m, \u001b[38;5;34m29\u001b[0m,    │     \u001b[38;5;34m18,496\u001b[0m │ max_pooling2d[\u001b[38;5;34m0\u001b[0m]… │\n",
       "│                     │ \u001b[38;5;34m64\u001b[0m)               │            │                   │\n",
       "├─────────────────────┼───────────────────┼────────────┼───────────────────┤\n",
       "│ max_pooling2d_1     │ (\u001b[38;5;45mNone\u001b[0m, \u001b[38;5;34m14\u001b[0m, \u001b[38;5;34m14\u001b[0m,    │          \u001b[38;5;34m0\u001b[0m │ conv2d_1[\u001b[38;5;34m0\u001b[0m][\u001b[38;5;34m0\u001b[0m]    │\n",
       "│ (\u001b[38;5;33mMaxPooling2D\u001b[0m)      │ \u001b[38;5;34m64\u001b[0m)               │            │                   │\n",
       "├─────────────────────┼───────────────────┼────────────┼───────────────────┤\n",
       "│ conv2d_2 (\u001b[38;5;33mConv2D\u001b[0m)   │ (\u001b[38;5;45mNone\u001b[0m, \u001b[38;5;34m12\u001b[0m, \u001b[38;5;34m12\u001b[0m,    │     \u001b[38;5;34m73,856\u001b[0m │ max_pooling2d_1[\u001b[38;5;34m…\u001b[0m │\n",
       "│                     │ \u001b[38;5;34m128\u001b[0m)              │            │                   │\n",
       "├─────────────────────┼───────────────────┼────────────┼───────────────────┤\n",
       "│ global_max_pooling… │ (\u001b[38;5;45mNone\u001b[0m, \u001b[38;5;34m128\u001b[0m)       │          \u001b[38;5;34m0\u001b[0m │ conv2d_2[\u001b[38;5;34m0\u001b[0m][\u001b[38;5;34m0\u001b[0m]    │\n",
       "│ (\u001b[38;5;33mGlobalMaxPooling2…\u001b[0m │                   │            │                   │\n",
       "├─────────────────────┼───────────────────┼────────────┼───────────────────┤\n",
       "│ dense (\u001b[38;5;33mDense\u001b[0m)       │ (\u001b[38;5;45mNone\u001b[0m, \u001b[38;5;34m32\u001b[0m)        │      \u001b[38;5;34m4,128\u001b[0m │ global_max_pooli… │\n",
       "├─────────────────────┼───────────────────┼────────────┼───────────────────┤\n",
       "│ dropout (\u001b[38;5;33mDropout\u001b[0m)   │ (\u001b[38;5;45mNone\u001b[0m, \u001b[38;5;34m32\u001b[0m)        │          \u001b[38;5;34m0\u001b[0m │ dense[\u001b[38;5;34m0\u001b[0m][\u001b[38;5;34m0\u001b[0m]       │\n",
       "├─────────────────────┼───────────────────┼────────────┼───────────────────┤\n",
       "│ disaster_type       │ (\u001b[38;5;45mNone\u001b[0m, \u001b[38;5;34m3\u001b[0m)         │         \u001b[38;5;34m99\u001b[0m │ dropout[\u001b[38;5;34m0\u001b[0m][\u001b[38;5;34m0\u001b[0m]     │\n",
       "│ (\u001b[38;5;33mDense\u001b[0m)             │                   │            │                   │\n",
       "├─────────────────────┼───────────────────┼────────────┼───────────────────┤\n",
       "│ damage_level        │ (\u001b[38;5;45mNone\u001b[0m, \u001b[38;5;34m4\u001b[0m)         │        \u001b[38;5;34m132\u001b[0m │ dropout[\u001b[38;5;34m0\u001b[0m][\u001b[38;5;34m0\u001b[0m]     │\n",
       "│ (\u001b[38;5;33mDense\u001b[0m)             │                   │            │                   │\n",
       "└─────────────────────┴───────────────────┴────────────┴───────────────────┘\n"
      ]
     },
     "metadata": {},
     "output_type": "display_data"
    },
    {
     "data": {
      "text/html": [
       "<pre style=\"white-space:pre;overflow-x:auto;line-height:normal;font-family:Menlo,'DejaVu Sans Mono',consolas,'Courier New',monospace\"><span style=\"font-weight: bold\"> Total params: </span><span style=\"color: #00af00; text-decoration-color: #00af00\">97,607</span> (381.28 KB)\n",
       "</pre>\n"
      ],
      "text/plain": [
       "\u001b[1m Total params: \u001b[0m\u001b[38;5;34m97,607\u001b[0m (381.28 KB)\n"
      ]
     },
     "metadata": {},
     "output_type": "display_data"
    },
    {
     "data": {
      "text/html": [
       "<pre style=\"white-space:pre;overflow-x:auto;line-height:normal;font-family:Menlo,'DejaVu Sans Mono',consolas,'Courier New',monospace\"><span style=\"font-weight: bold\"> Trainable params: </span><span style=\"color: #00af00; text-decoration-color: #00af00\">97,607</span> (381.28 KB)\n",
       "</pre>\n"
      ],
      "text/plain": [
       "\u001b[1m Trainable params: \u001b[0m\u001b[38;5;34m97,607\u001b[0m (381.28 KB)\n"
      ]
     },
     "metadata": {},
     "output_type": "display_data"
    },
    {
     "data": {
      "text/html": [
       "<pre style=\"white-space:pre;overflow-x:auto;line-height:normal;font-family:Menlo,'DejaVu Sans Mono',consolas,'Courier New',monospace\"><span style=\"font-weight: bold\"> Non-trainable params: </span><span style=\"color: #00af00; text-decoration-color: #00af00\">0</span> (0.00 B)\n",
       "</pre>\n"
      ],
      "text/plain": [
       "\u001b[1m Non-trainable params: \u001b[0m\u001b[38;5;34m0\u001b[0m (0.00 B)\n"
      ]
     },
     "metadata": {},
     "output_type": "display_data"
    }
   ],
   "source": [
    "import tensorflow as tf\n",
    "from tensorflow.keras import layers, models\n",
    "\n",
    "# Number of classes from preprocessing step (one hot encoded)\n",
    "# could be hard coded I guess but this makes it more adaptable?\n",
    "num_disasters = y_disaster.shape[1]\n",
    "num_damage_levels = y_damage.shape[1]\n",
    "\n",
    "# Input layer\n",
    "input_layer = layers.Input(shape=(64, 64, 3))\n",
    "\n",
    "# Convolutional layers\n",
    "x = layers.Conv2D(32, 3, activation='relu')(input_layer)\n",
    "x = layers.MaxPooling2D(2)(x)\n",
    "\n",
    "x = layers.Conv2D(64, 3, activation='relu')(x)\n",
    "x = layers.MaxPooling2D(2)(x)\n",
    "\n",
    "x = layers.Conv2D(128, 3, activation='relu')(x)\n",
    "x = layers.GlobalMaxPooling2D()(x)\n",
    "\n",
    "# Fully connected layers\n",
    "x = layers.Dense(32, activation='relu')(x)\n",
    "x = layers.Dropout(0.3)(x)\n",
    "\n",
    "# Two outputs (disaster type and damage level)\n",
    "disaster_output = layers.Dense(num_disasters, activation='softmax', name='disaster_type')(x)\n",
    "damage_output   = layers.Dense(num_damage_levels, activation='softmax', name='damage_level')(x)\n",
    "\n",
    "# Build the model\n",
    "model = models.Model(inputs=input_layer, outputs=[disaster_output, damage_output])\n",
    "\n",
    "# Using categorical crossentropy loss for both tasks\n",
    "# TODO: consider other loss options?\n",
    "model.compile(\n",
    "    optimizer='adam',\n",
    "    loss={\n",
    "        'disaster_type': 'categorical_crossentropy',\n",
    "        'damage_level': 'categorical_crossentropy'\n",
    "    },\n",
    "    metrics={\n",
    "        'disaster_type': 'accuracy',\n",
    "        'damage_level': 'accuracy'\n",
    "    }\n",
    ")\n",
    "\n",
    "# Print model summary\n",
    "model.summary()\n"
   ]
  },
  {
   "cell_type": "code",
   "execution_count": null,
   "id": "6e509ff8",
   "metadata": {},
   "outputs": [
    {
     "name": "stdout",
     "output_type": "stream",
     "text": [
      "Epoch 1/20\n"
     ]
    },
    {
     "name": "stderr",
     "output_type": "stream",
     "text": [
      "I0000 00:00:1755726068.499984   25279 service.cc:148] XLA service 0x76a3fc0027e0 initialized for platform CUDA (this does not guarantee that XLA will be used). Devices:\n",
      "I0000 00:00:1755726068.500014   25279 service.cc:156]   StreamExecutor device (0): NVIDIA GeForce RTX 3060 Ti, Compute Capability 8.6\n",
      "2025-08-20 14:41:08.546872: I tensorflow/compiler/mlir/tensorflow/utils/dump_mlir_util.cc:268] disabling MLIR crash reproducer, set env var `MLIR_CRASH_REPRODUCER_DIRECTORY` to enable.\n",
      "I0000 00:00:1755726068.706098   25279 cuda_dnn.cc:529] Loaded cuDNN version 90101\n"
     ]
    },
    {
     "name": "stdout",
     "output_type": "stream",
     "text": [
      "\u001b[1m  51/2654\u001b[0m \u001b[37m━━━━━━━━━━━━━━━━━━━━\u001b[0m \u001b[1m8s\u001b[0m 3ms/step - damage_level_accuracy: 0.5668 - damage_level_loss: 1.1812 - disaster_type_accuracy: 0.4308 - disaster_type_loss: 1.1048 - loss: 2.2859 "
     ]
    },
    {
     "name": "stderr",
     "output_type": "stream",
     "text": [
      "I0000 00:00:1755726070.666717   25279 device_compiler.h:188] Compiled cluster using XLA!  This line is logged at most once for the lifetime of the process.\n"
     ]
    },
    {
     "name": "stdout",
     "output_type": "stream",
     "text": [
      "\u001b[1m2654/2654\u001b[0m \u001b[32m━━━━━━━━━━━━━━━━━━━━\u001b[0m\u001b[37m\u001b[0m \u001b[1m18s\u001b[0m 5ms/step - damage_level_accuracy: 0.6409 - damage_level_loss: 0.9281 - disaster_type_accuracy: 0.6717 - disaster_type_loss: 0.7319 - loss: 1.6601 - val_damage_level_accuracy: 0.6946 - val_damage_level_loss: 0.7852 - val_disaster_type_accuracy: 0.8270 - val_disaster_type_loss: 0.4337 - val_loss: 1.2193\n",
      "Epoch 2/20\n",
      "\u001b[1m2654/2654\u001b[0m \u001b[32m━━━━━━━━━━━━━━━━━━━━\u001b[0m\u001b[37m\u001b[0m \u001b[1m10s\u001b[0m 4ms/step - damage_level_accuracy: 0.6838 - damage_level_loss: 0.7811 - disaster_type_accuracy: 0.8477 - disaster_type_loss: 0.4015 - loss: 1.1826 - val_damage_level_accuracy: 0.7123 - val_damage_level_loss: 0.7299 - val_disaster_type_accuracy: 0.8630 - val_disaster_type_loss: 0.3754 - val_loss: 1.1057\n",
      "Epoch 3/20\n",
      "\u001b[1m2654/2654\u001b[0m \u001b[32m━━━━━━━━━━━━━━━━━━━━\u001b[0m\u001b[37m\u001b[0m \u001b[1m10s\u001b[0m 4ms/step - damage_level_accuracy: 0.7054 - damage_level_loss: 0.7269 - disaster_type_accuracy: 0.8838 - disaster_type_loss: 0.3119 - loss: 1.0389 - val_damage_level_accuracy: 0.7200 - val_damage_level_loss: 0.6749 - val_disaster_type_accuracy: 0.9124 - val_disaster_type_loss: 0.2369 - val_loss: 0.9119\n",
      "Epoch 4/20\n",
      "\u001b[1m2654/2654\u001b[0m \u001b[32m━━━━━━━━━━━━━━━━━━━━\u001b[0m\u001b[37m\u001b[0m \u001b[1m10s\u001b[0m 4ms/step - damage_level_accuracy: 0.7230 - damage_level_loss: 0.6965 - disaster_type_accuracy: 0.9027 - disaster_type_loss: 0.2617 - loss: 0.9583 - val_damage_level_accuracy: 0.7550 - val_damage_level_loss: 0.6335 - val_disaster_type_accuracy: 0.9278 - val_disaster_type_loss: 0.1885 - val_loss: 0.8223\n",
      "Epoch 5/20\n",
      "\u001b[1m2654/2654\u001b[0m \u001b[32m━━━━━━━━━━━━━━━━━━━━\u001b[0m\u001b[37m\u001b[0m \u001b[1m10s\u001b[0m 4ms/step - damage_level_accuracy: 0.7336 - damage_level_loss: 0.6719 - disaster_type_accuracy: 0.9156 - disaster_type_loss: 0.2268 - loss: 0.8987 - val_damage_level_accuracy: 0.7411 - val_damage_level_loss: 0.6521 - val_disaster_type_accuracy: 0.9244 - val_disaster_type_loss: 0.2011 - val_loss: 0.8537\n",
      "Epoch 6/20\n",
      "\u001b[1m2654/2654\u001b[0m \u001b[32m━━━━━━━━━━━━━━━━━━━━\u001b[0m\u001b[37m\u001b[0m \u001b[1m10s\u001b[0m 4ms/step - damage_level_accuracy: 0.7418 - damage_level_loss: 0.6535 - disaster_type_accuracy: 0.9231 - disaster_type_loss: 0.2131 - loss: 0.8666 - val_damage_level_accuracy: 0.7565 - val_damage_level_loss: 0.6223 - val_disaster_type_accuracy: 0.9278 - val_disaster_type_loss: 0.1861 - val_loss: 0.8087\n",
      "Epoch 7/20\n",
      "\u001b[1m2654/2654\u001b[0m \u001b[32m━━━━━━━━━━━━━━━━━━━━\u001b[0m\u001b[37m\u001b[0m \u001b[1m10s\u001b[0m 4ms/step - damage_level_accuracy: 0.7481 - damage_level_loss: 0.6400 - disaster_type_accuracy: 0.9287 - disaster_type_loss: 0.1930 - loss: 0.8331 - val_damage_level_accuracy: 0.7703 - val_damage_level_loss: 0.6006 - val_disaster_type_accuracy: 0.9435 - val_disaster_type_loss: 0.1582 - val_loss: 0.7590\n",
      "Epoch 8/20\n",
      "\u001b[1m2654/2654\u001b[0m \u001b[32m━━━━━━━━━━━━━━━━━━━━\u001b[0m\u001b[37m\u001b[0m \u001b[1m11s\u001b[0m 4ms/step - damage_level_accuracy: 0.7525 - damage_level_loss: 0.6253 - disaster_type_accuracy: 0.9348 - disaster_type_loss: 0.1825 - loss: 0.8078 - val_damage_level_accuracy: 0.7788 - val_damage_level_loss: 0.5772 - val_disaster_type_accuracy: 0.9465 - val_disaster_type_loss: 0.1427 - val_loss: 0.7202\n",
      "Epoch 9/20\n",
      "\u001b[1m2654/2654\u001b[0m \u001b[32m━━━━━━━━━━━━━━━━━━━━\u001b[0m\u001b[37m\u001b[0m \u001b[1m10s\u001b[0m 4ms/step - damage_level_accuracy: 0.7596 - damage_level_loss: 0.6117 - disaster_type_accuracy: 0.9398 - disaster_type_loss: 0.1674 - loss: 0.7791 - val_damage_level_accuracy: 0.7741 - val_damage_level_loss: 0.5881 - val_disaster_type_accuracy: 0.9491 - val_disaster_type_loss: 0.1433 - val_loss: 0.7317\n",
      "Epoch 10/20\n",
      "\u001b[1m2654/2654\u001b[0m \u001b[32m━━━━━━━━━━━━━━━━━━━━\u001b[0m\u001b[37m\u001b[0m \u001b[1m10s\u001b[0m 4ms/step - damage_level_accuracy: 0.7615 - damage_level_loss: 0.6077 - disaster_type_accuracy: 0.9446 - disaster_type_loss: 0.1544 - loss: 0.7620 - val_damage_level_accuracy: 0.7758 - val_damage_level_loss: 0.5788 - val_disaster_type_accuracy: 0.9461 - val_disaster_type_loss: 0.1436 - val_loss: 0.7226\n",
      "Epoch 11/20\n",
      "\u001b[1m2654/2654\u001b[0m \u001b[32m━━━━━━━━━━━━━━━━━━━━\u001b[0m\u001b[37m\u001b[0m \u001b[1m11s\u001b[0m 4ms/step - damage_level_accuracy: 0.7685 - damage_level_loss: 0.5944 - disaster_type_accuracy: 0.9452 - disaster_type_loss: 0.1506 - loss: 0.7451 - val_damage_level_accuracy: 0.7694 - val_damage_level_loss: 0.5913 - val_disaster_type_accuracy: 0.9412 - val_disaster_type_loss: 0.1637 - val_loss: 0.7553\n",
      "Epoch 12/20\n",
      "\u001b[1m2654/2654\u001b[0m \u001b[32m━━━━━━━━━━━━━━━━━━━━\u001b[0m\u001b[37m\u001b[0m \u001b[1m11s\u001b[0m 4ms/step - damage_level_accuracy: 0.7731 - damage_level_loss: 0.5834 - disaster_type_accuracy: 0.9499 - disaster_type_loss: 0.1388 - loss: 0.7222 - val_damage_level_accuracy: 0.7641 - val_damage_level_loss: 0.5938 - val_disaster_type_accuracy: 0.9389 - val_disaster_type_loss: 0.1840 - val_loss: 0.7782\n",
      "Epoch 13/20\n",
      "\u001b[1m2654/2654\u001b[0m \u001b[32m━━━━━━━━━━━━━━━━━━━━\u001b[0m\u001b[37m\u001b[0m \u001b[1m10s\u001b[0m 4ms/step - damage_level_accuracy: 0.7739 - damage_level_loss: 0.5791 - disaster_type_accuracy: 0.9518 - disaster_type_loss: 0.1351 - loss: 0.7143 - val_damage_level_accuracy: 0.7682 - val_damage_level_loss: 0.5953 - val_disaster_type_accuracy: 0.9437 - val_disaster_type_loss: 0.1611 - val_loss: 0.7566\n",
      "Epoch 14/20\n",
      "\u001b[1m2654/2654\u001b[0m \u001b[32m━━━━━━━━━━━━━━━━━━━━\u001b[0m\u001b[37m\u001b[0m \u001b[1m10s\u001b[0m 4ms/step - damage_level_accuracy: 0.7723 - damage_level_loss: 0.5741 - disaster_type_accuracy: 0.9524 - disaster_type_loss: 0.1290 - loss: 0.7031 - val_damage_level_accuracy: 0.7846 - val_damage_level_loss: 0.5669 - val_disaster_type_accuracy: 0.9518 - val_disaster_type_loss: 0.1361 - val_loss: 0.7032\n",
      "Epoch 15/20\n",
      "\u001b[1m2654/2654\u001b[0m \u001b[32m━━━━━━━━━━━━━━━━━━━━\u001b[0m\u001b[37m\u001b[0m \u001b[1m11s\u001b[0m 4ms/step - damage_level_accuracy: 0.7804 - damage_level_loss: 0.5600 - disaster_type_accuracy: 0.9565 - disaster_type_loss: 0.1210 - loss: 0.6810 - val_damage_level_accuracy: 0.7784 - val_damage_level_loss: 0.5722 - val_disaster_type_accuracy: 0.9465 - val_disaster_type_loss: 0.1657 - val_loss: 0.7382\n",
      "Epoch 16/20\n",
      "\u001b[1m2654/2654\u001b[0m \u001b[32m━━━━━━━━━━━━━━━━━━━━\u001b[0m\u001b[37m\u001b[0m \u001b[1m11s\u001b[0m 4ms/step - damage_level_accuracy: 0.7852 - damage_level_loss: 0.5497 - disaster_type_accuracy: 0.9583 - disaster_type_loss: 0.1169 - loss: 0.6666 - val_damage_level_accuracy: 0.7835 - val_damage_level_loss: 0.5610 - val_disaster_type_accuracy: 0.9536 - val_disaster_type_loss: 0.1329 - val_loss: 0.6941\n",
      "Epoch 17/20\n",
      "\u001b[1m2654/2654\u001b[0m \u001b[32m━━━━━━━━━━━━━━━━━━━━\u001b[0m\u001b[37m\u001b[0m \u001b[1m11s\u001b[0m 4ms/step - damage_level_accuracy: 0.7850 - damage_level_loss: 0.5484 - disaster_type_accuracy: 0.9609 - disaster_type_loss: 0.1092 - loss: 0.6575 - val_damage_level_accuracy: 0.7886 - val_damage_level_loss: 0.5545 - val_disaster_type_accuracy: 0.9506 - val_disaster_type_loss: 0.1476 - val_loss: 0.7023\n",
      "Epoch 18/20\n",
      "\u001b[1m2654/2654\u001b[0m \u001b[32m━━━━━━━━━━━━━━━━━━━━\u001b[0m\u001b[37m\u001b[0m \u001b[1m11s\u001b[0m 4ms/step - damage_level_accuracy: 0.7854 - damage_level_loss: 0.5486 - disaster_type_accuracy: 0.9648 - disaster_type_loss: 0.1029 - loss: 0.6516 - val_damage_level_accuracy: 0.7905 - val_damage_level_loss: 0.5462 - val_disaster_type_accuracy: 0.9493 - val_disaster_type_loss: 0.1415 - val_loss: 0.6880\n",
      "Epoch 19/20\n",
      "\u001b[1m2654/2654\u001b[0m \u001b[32m━━━━━━━━━━━━━━━━━━━━\u001b[0m\u001b[37m\u001b[0m \u001b[1m11s\u001b[0m 4ms/step - damage_level_accuracy: 0.7885 - damage_level_loss: 0.5401 - disaster_type_accuracy: 0.9638 - disaster_type_loss: 0.1063 - loss: 0.6463 - val_damage_level_accuracy: 0.7754 - val_damage_level_loss: 0.5693 - val_disaster_type_accuracy: 0.9322 - val_disaster_type_loss: 0.2042 - val_loss: 0.7738\n",
      "Epoch 20/20\n",
      "\u001b[1m2654/2654\u001b[0m \u001b[32m━━━━━━━━━━━━━━━━━━━━\u001b[0m\u001b[37m\u001b[0m \u001b[1m11s\u001b[0m 4ms/step - damage_level_accuracy: 0.7914 - damage_level_loss: 0.5324 - disaster_type_accuracy: 0.9665 - disaster_type_loss: 0.0952 - loss: 0.6277 - val_damage_level_accuracy: 0.7846 - val_damage_level_loss: 0.5544 - val_disaster_type_accuracy: 0.9546 - val_disaster_type_loss: 0.1346 - val_loss: 0.6893\n"
     ]
    }
   ],
   "source": [
    "history = model.fit(\n",
    "    X_train,\n",
    "    {'disaster_type': y_disaster_train, 'damage_level': y_damage_train},\n",
    "    validation_data=(X_test, {'disaster_type': y_disaster_test, 'damage_level': y_damage_test}),\n",
    "    epochs=20,\n",
    "    batch_size=8\n",
    ")"
   ]
  },
  {
   "cell_type": "code",
   "execution_count": null,
   "id": "07cbd1b0",
   "metadata": {},
   "outputs": [
    {
     "name": "stdout",
     "output_type": "stream",
     "text": [
      "\u001b[1m166/166\u001b[0m \u001b[32m━━━━━━━━━━━━━━━━━━━━\u001b[0m\u001b[37m\u001b[0m \u001b[1m1s\u001b[0m 5ms/step - damage_level_accuracy: 0.7846 - damage_level_loss: 0.5546 - disaster_type_accuracy: 0.9546 - disaster_type_loss: 0.1346 - loss: 0.6893\n",
      "[0.6892766356468201, 0.13464434444904327, 0.5545526146888733, 0.7846240997314453, 0.9545882940292358]\n"
     ]
    }
   ],
   "source": [
    "results = model.evaluate(\n",
    "    X_test, \n",
    "    {'disaster_type': y_disaster_test, 'damage_level': y_damage_test}, \n",
    "    batch_size=32\n",
    ")\n",
    "print(results)\n"
   ]
  }
 ],
 "metadata": {
  "language_info": {
   "name": "python"
  }
 },
 "nbformat": 4,
 "nbformat_minor": 5
}
